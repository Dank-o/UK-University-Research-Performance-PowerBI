{
  "cells": [
    {
      "cell_type": "code",
      "execution_count": null,
      "id": "d47b9958",
      "metadata": {
        "vscode": {
          "languageId": "plaintext"
        }
      },
      "outputs": [],
      "source": [
        "aeer\n",
        "    q34t4g\n",
        "\n",
        "afd\n",
        "\n",
        "    asdfsd\n"
      ]
    }
  ],
  "metadata": {
    "language_info": {
      "name": "python"
    }
  },
  "nbformat": 4,
  "nbformat_minor": 5
}
